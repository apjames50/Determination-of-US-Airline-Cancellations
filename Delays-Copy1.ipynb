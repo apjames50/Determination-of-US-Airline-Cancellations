{
 "cells": [
  {
   "cell_type": "markdown",
   "id": "f38c3743",
   "metadata": {},
   "source": [
    "<h5>Andrew James<br>Flight Delays Capstone 2<h5>December 2023<br>"
   ]
  },
  {
   "cell_type": "code",
   "execution_count": 1,
   "id": "55c26a6a",
   "metadata": {
    "scrolled": true
   },
   "outputs": [
    {
     "data": {
      "text/html": [
       "<script>\n",
       "code_show=true; \n",
       "function code_toggle() {\n",
       " if (code_show){\n",
       " $('div.input').hide();\n",
       " } else {\n",
       " $('div.input').show();\n",
       " }\n",
       " code_show = !code_show\n",
       "} \n",
       "$( document ).ready(code_toggle);\n",
       "</script>\n",
       "<form action=\"javascript:code_toggle()\"><input type=\"submit\" value=\"Click here to toggle on/off the raw code.\"></form>"
      ],
      "text/plain": [
       "<IPython.core.display.HTML object>"
      ]
     },
     "execution_count": 1,
     "metadata": {},
     "output_type": "execute_result"
    }
   ],
   "source": [
    "from IPython.display import HTML\n",
    "\n",
    "HTML('''<script>\n",
    "code_show=true; \n",
    "function code_toggle() {\n",
    " if (code_show){\n",
    " $('div.input').hide();\n",
    " } else {\n",
    " $('div.input').show();\n",
    " }\n",
    " code_show = !code_show\n",
    "} \n",
    "$( document ).ready(code_toggle);\n",
    "</script>\n",
    "<form action=\"javascript:code_toggle()\"><input type=\"submit\" value=\"Click here to toggle on/off the raw code.\"></form>''')"
   ]
  },
  {
   "cell_type": "code",
   "execution_count": null,
   "id": "7e8b169b",
   "metadata": {},
   "outputs": [],
   "source": [
    "import numpy as np\n",
    "import pandas as pd\n",
    "import seaborn as sns\n",
    "import matplotlib.pyplot as plt\n",
    "import statsmodels.api as sm\n",
    "from sklearn.linear_model import LogisticRegression\n",
    "from sklearn.metrics import classification_report, confusion_matrix\n"
   ]
  },
  {
   "cell_type": "code",
   "execution_count": 3,
   "id": "9799fe72",
   "metadata": {},
   "outputs": [],
   "source": [
    "df = pd.read_csv('/Users/drew/Downloads/flight_delay/2018.csv')"
   ]
  },
  {
   "cell_type": "markdown",
   "id": "645c8502",
   "metadata": {},
   "source": [
    "### Data Cleansing "
   ]
  },
  {
   "cell_type": "code",
   "execution_count": 4,
   "id": "a40b0f10",
   "metadata": {},
   "outputs": [],
   "source": [
    "# df['CANCELLED'] = df['CANCELLED'].round(-1)"
   ]
  },
  {
   "cell_type": "markdown",
   "id": "855034e4",
   "metadata": {},
   "source": [
    "The key challenges we faced were centered around:\n",
    "<li> Inconsistent data types </li> - Some numerical Columns were actually classed as objects...\n",
    "<li> Renaming ..</li> Completely removing NaN values beyond using df.dropna.."
   ]
  },
  {
   "cell_type": "markdown",
   "id": "e9ca697c",
   "metadata": {},
   "source": [
    "<h3>Dictionary<h3>"
   ]
  },
  {
   "cell_type": "markdown",
   "id": "86f46722",
   "metadata": {},
   "source": [
    "FL_DATE<br>\n",
    "Date of the flight, yy/mm/dd<br>\n",
    "OP_CARRIER<br>\n",
    "Airline Identifier<br>\n",
    "OP_CARRIER_FL_NUM<br>\n",
    "Flight Number<br>\n",
    "ORIGIN<br>\n",
    "Starting Airport Code<br>\n",
    "DEST<br>\n",
    "Destination Airport Code<br>\n",
    "CRS_DEP_TIME<br>\n",
    "Planned Departure Time<br>\n",
    "DEP_TIME<br>\n",
    "Actual Departure Time<br>\n",
    "DEP_DELAY<br>\n",
    "Total Delay on Departure in minutes<br>\n",
    "TAXI_OUT<br>\n",
    "The time duration elapsed between departure from the origin airport gate and wheels off<br>\n",
    "WHEELS_OFF<br>\n",
    "The time point that the aircraft's wheels leave the ground<br>\n",
    "WHEELS_ON<br>\n",
    "The time point that the aircraft's wheels touch on the ground<br>\n",
    "TAXI_IN<br>\n",
    "The time duration elapsed between wheels-on and gate arrival at the destination airport<br>\n",
    "CRS_ARR_TIME<br>\n",
    "Planned arrival time<br>\n",
    "ARR_TIME<br>\n",
    "Actual Arrival Time<br>\n",
    "ARR_DELAY<br>\n",
    "Total Delay on Arrival in minutes<br>\n",
    "CANCELLED<br>\n",
    "Flight Cancelled (1 = cancelled)<br>\n",
    "CANCELLATION_CODE<br>\n",
    "Reason for Cancellation of flight: A - Airline/Carrier; B - Weather; C - National Air System; D - Security<br>\n",
    "DIVERTED<br>\n",
    "Aircraft landed on airport that out of schedule<br>\n",
    "CRS_ELAPSED_TIME<br>\n",
    "Planned time amount needed for the flight trip<br>\n",
    "ACTUAL_ELAPSED_TIME<br>\n",
    "AIR_TIME+TAXI_IN+TAXI_OUT<br>\n",
    "AIR_TIME<br>\n",
    "The time duration between wheels_off and wheels_on time<br>\n",
    "DISTANCE<br>\n",
    "Distance between two airports<br>\n",
    "CARRIER_DELAY<br>\n",
    "Delay caused by the airline in minutes<br>\n",
    "WEATHER_DELAY<br>\n",
    "Delay caused by weather<br>\n",
    "NAS_DELAY<br>\n",
    "Delay caused by air system<br>\n",
    "LATE_AIRCRAFT_DELAY<br>\n",
    "Delay caused by security<br>\n"
   ]
  },
  {
   "cell_type": "markdown",
   "id": "0f4d4b63",
   "metadata": {},
   "source": [
    "<h2>Defining DataFrames <h2>"
   ]
  },
  {
   "cell_type": "code",
   "execution_count": null,
   "id": "a13db6bc",
   "metadata": {},
   "outputs": [],
   "source": [
    "# non_cdf is the main df with NO cancelled flights\n",
    "non_cdf = df[df['CANCELLED']==0]\n",
    "nan_clmns = ['CANCELLATION_CODE','CARRIER_DELAY','WEATHER_DELAY','NAS_DELAY','SECURITY_DELAY','LATE_AIRCRAFT_DELAY']\n",
    "non_cdf.drop(columns=nan_clmns, inplace=True)\n",
    "nan_test = non_cdf.isna()\n",
    "any_nan = nan_test.any().any()\n",
    "# print(f\"cdf contains nan values... {any_nan}\")"
   ]
  },
  {
   "cell_type": "code",
   "execution_count": null,
   "id": "1badf9de",
   "metadata": {},
   "outputs": [],
   "source": [
    "# cl_df is the main df with dropped NaN values from the listed columns below\n",
    "delay_colums = ['CARRIER_DELAY',\n",
    "       'WEATHER_DELAY', 'NAS_DELAY', 'SECURITY_DELAY', 'LATE_AIRCRAFT_DELAY']\n",
    "cl_df = df.dropna(subset=delay_colums)"
   ]
  },
  {
   "cell_type": "code",
   "execution_count": null,
   "id": "adeb495e",
   "metadata": {},
   "outputs": [],
   "source": [
    "# cdf is the main df with ONLY cancelled flights\n",
    "cdf = df[df['CANCELLED']==1]"
   ]
  },
  {
   "cell_type": "markdown",
   "id": "0edcbd7c",
   "metadata": {},
   "source": [
    "<h3>Taking a micro view of Airports and Airlines based on volume...<h3>"
   ]
  },
  {
   "cell_type": "markdown",
   "id": "74ff81bc",
   "metadata": {},
   "source": [
    "Upon examining the dataset, a need to focus on the busiest airports and airlines was needed to remove outliers. For airports, the 90th percentile in flight volume was taken. The 50th percentile in flight volume of airlines was taken due to fewer airlines than the number of airports in the dataset.<br> ***From this point forward, all airline/airport data is referencing a modified dataframe."
   ]
  },
  {
   "cell_type": "code",
   "execution_count": null,
   "id": "a91e4256",
   "metadata": {},
   "outputs": [],
   "source": [
    "# 90th,10th percentiles Airports based on airport traffic\n",
    "departures = df['ORIGIN'].value_counts()\n",
    "arrivals = df['DEST'].value_counts()\n",
    "total_flights_airport = departures  + arrivals\n",
    "\n",
    "airport_percentile_90 = np.percentile(total_flights_airport,90)\n",
    "airport_percentile_10 = np.percentile(total_flights_airport,10)\n",
    "\n",
    "# Defining Top Airports\n",
    "airports_90 = total_flights_airport[total_flights_airport >= airport_percentile_90]\n",
    "airports_10 = total_flights_airport[total_flights_airport <= airport_percentile_10]\n",
    "\n",
    "top_airports_list = airports_90.index.tolist()\n",
    "top_airports = df[df['ORIGIN'].isin(top_airports_list)] # filtering for only the busiest airports in the 90th percentile.\n",
    "\n",
    "\n",
    "\n",
    "\n",
    "# Top 50th percentile was used for Airlines based on volume due to the limited number of airlines. \n",
    "total_flights_airline = df['OP_CARRIER'].value_counts()\n",
    "\n",
    "airline_percentile_50 = np.percentile(total_flights_airline,50)\n",
    "\n",
    "# Defining Top Airlines\n",
    "airline_50t = total_flights_airline[total_flights_airline >= airline_percentile_50]\n",
    "airline_50b = total_flights_airline[total_flights_airline <= airline_percentile_50]\n",
    "\n",
    "top_airline_list = airline_50t.index.tolist()\n",
    "top_airlines = df[df['OP_CARRIER'].isin(top_airline_list)]\n",
    "\n",
    "\n",
    "# Both top_airports and top_airlines include each other i.e top_airports only filters the 90th% of airports but includes all airlines."
   ]
  },
  {
   "cell_type": "markdown",
   "id": "a7b9eb38",
   "metadata": {},
   "source": [
    " <h1>Summary <h1>\n",
    "    "
   ]
  },
  {
   "cell_type": "markdown",
   "id": "f91be649",
   "metadata": {},
   "source": [
    "Flight Travel is synonymous with modern business today.\n",
    "As a flights Aviation Analyst, we seek to understand why airlines might have delays and whether this is man-made or subject to avoidance.\n",
    "\n",
    "In our below presentation, we focus on analyzing the following core themes:\n",
    "\n",
    "<li> Flight Volume </li>\n",
    "<li> Frequency of Cancellations Globally </li>\n",
    "<li> Duration of Delays </li>\n",
    "\n"
   ]
  },
  {
   "cell_type": "markdown",
   "id": "98626d07",
   "metadata": {},
   "source": [
    "The following analysis was conducted on 7,213,446 flights in 2018. Of those flights, 116,584 were cancelled. The question of why were these flights cancelled is discussed below. July is the busiest month of the year. Mondays are the busiest day of the week. Atlanta is the busiest airport in the US, while Southwest Airlines operates the most flights. 1.61% of flights are cancelled, with weather being the leading cause of cancellation. 33% of delays occur due to disruption in the air system. As a result, planes become stagnant on the runway. Taxi-Out times are statistically significant with respect to departure delays. <br><br> The recommendations to airline companies and airport are as followed: Expect weather delays in months January and March. A primary operations bottleneck is the Taxi-Out time for an aircraft due to delays in airspace. "
   ]
  },
  {
   "cell_type": "markdown",
   "id": "4e7ad5a2",
   "metadata": {},
   "source": [
    " <h3>Volume Insights <h3>\n",
    "    "
   ]
  },
  {
   "cell_type": "code",
   "execution_count": null,
   "id": "dd83358a",
   "metadata": {},
   "outputs": [],
   "source": [
    "# cdf = cdf[['FL_DATE','OP_CARRIER_FL_NUM','ORIGIN','DEST','CRS_DEP_TIME','DISTANCE','DAY','Month']]"
   ]
  },
  {
   "cell_type": "code",
   "execution_count": null,
   "id": "23ca3630",
   "metadata": {},
   "outputs": [],
   "source": [
    "# Industry Average Cancelled Flights (%)\n",
    "perc_cancelled = round(df['CANCELLED'].mean()*100,2)\n",
    "print(f\"{perc_cancelled}% of flights cancelled annually\")"
   ]
  },
  {
   "cell_type": "code",
   "execution_count": null,
   "id": "30f2221f",
   "metadata": {},
   "outputs": [],
   "source": [
    "df['ORIGIN'].mean()"
   ]
  },
  {
   "cell_type": "code",
   "execution_count": null,
   "id": "924b27f4",
   "metadata": {
    "scrolled": false
   },
   "outputs": [],
   "source": [
    "# subplots\n",
    "fig, axes = plt.subplots(nrows=1, ncols=2, figsize=(10, 5 ))\n",
    "\n",
    "# Number of flights for each airport\n",
    "departures = df['ORIGIN'].value_counts()\n",
    "arrivals = df['DEST'].value_counts()\n",
    "total_flights_airport = departures  + arrivals\n",
    "\n",
    "top_airports = pd.DataFrame({'TotalFlights': total_flights_airport})\n",
    "top_airports.sort_values(by='TotalFlights', ascending=False, inplace=True)\n",
    "top_airports_20 = top_airports.head(20)\n",
    "\n",
    "\n",
    "top_airports_20.plot(kind='bar', ax=axes[0])\n",
    "axes[0].set_ylabel(\"Annual Flights\")\n",
    "axes[0].set_title(\"Total Flights by Airport\")\n",
    "labels1 = ['0', '100,000', '200,000', '300,000', '400,000', '500,000','600,000','700,000', '800,000']\n",
    "axes[0].set_yticks([0,100000,200000,300000,400000,500000,600000, 700000, 800000], labels1)\n",
    "\n",
    "# Number of flights for each airline\n",
    "\n",
    "flights = df['OP_CARRIER'].value_counts()\n",
    "flights.sort_values(ascending= False).head(20).plot(kind='bar', ax=axes[1])\n",
    "labels = ['0', '200,000', '400,000', '600,000', '800,000', '1,000,000','1,200,000','1,400,000']\n",
    "axes[1].set_yticks([0,200000,400000,600000,800000,1000000,1200000,1400000], labels)\n",
    "axes[1].set_ylabel(\"Annual Flights\")\n",
    "axes[1].set_title(\"Total Flights by Airline\")\n",
    "\n",
    "plt.tight_layout(pad=5)\n",
    "plt.show()"
   ]
  },
  {
   "cell_type": "code",
   "execution_count": null,
   "id": "511d2bb1",
   "metadata": {},
   "outputs": [],
   "source": [
    "# subplots\n",
    "fig, axes = plt.subplots(nrows=1, ncols=2, figsize=(10, 5))\n",
    "\n",
    "# Flights by month Industry Total\n",
    "df['FL_DATE'] = pd.to_datetime(df['FL_DATE'])\n",
    "# adding month column to df\n",
    "df['Month'] = df['FL_DATE'].dt.month_name()\n",
    "\n",
    "month_order = ['January','February','March','April','May','June','July','August','September','October','November','December']\n",
    "df['Month'] = pd.Categorical(df['Month'], categories=month_order, ordered=True)\n",
    "month_count = df['Month'].value_counts().sort_index()\n",
    "month_count.plot(kind='bar', ax=axes[0])\n",
    "\n",
    "axes[0].set_ylim(500000, month_count.max() + 10000)\n",
    "axes[0].set_xlabel(\"Month\")\n",
    "axes[0].set_title(\"Flights per Month\")\n",
    "\n",
    "\n",
    "\n",
    "# Flights by Day Industry Total\n",
    "# Adding Day column to df\n",
    "df['DAY'] = df['FL_DATE'].dt.day_name()\n",
    "# df['DAY'] = df['FL_DATE'].dt.weekday\n",
    "day_count = df['DAY'].value_counts().sort_index()\n",
    "# day_count\n",
    "day_count = day_count.reindex(['Monday', 'Tuesday', 'Wednesday', 'Thursday', 'Friday','Saturday','Sunday'])\n",
    "day_count.plot(kind='bar', ax=axes[1])\n",
    "\n",
    "axes[1].set_ylim(800000, day_count.max()+1000)\n",
    "axes[1].set_labels2 = ['800,000','900,000','1,000,000','1,100,000','1,200,000']\n",
    "axes[1].set_yticks([800000,900000,1000000,1100000,1200000], labels2)\n",
    "axes[1].set_title(\"Flights per Day\")\n",
    "\n",
    "plt.tight_layout(pad=5)\n",
    "plt.show()"
   ]
  },
  {
   "cell_type": "markdown",
   "id": "dec91e59",
   "metadata": {},
   "source": [
    "<h3> Beyond understanding the volume of flights... </h3>"
   ]
  },
  {
   "cell_type": "markdown",
   "id": "dde11ed0",
   "metadata": {},
   "source": [
    "<h3> Flight Delays  <h3><h4>The industry average for Departure delays is 9.9 minutes and Arrivals are 5.0 minutes delayed.<br><br>The top five airlines have an average Departure delay between 7 - 11 minutes. <br>Delta (DL) Arrives 0.2 minutes early on average while Skywest (OO) averages 7 minutes late.  <h4>"
   ]
  },
  {
   "cell_type": "code",
   "execution_count": null,
   "id": "45b11c52",
   "metadata": {},
   "outputs": [],
   "source": [
    "# subplots\n",
    "fig, axes = plt.subplots(nrows=2, ncols=1, figsize=(10, 10))\n",
    "\n",
    "# Average length of delay for Departures in (min)\n",
    "dep_delay = top_airlines.groupby('OP_CARRIER')['DEP_DELAY'].mean().sort_values(ascending = False)\n",
    "dep_delay.plot(kind='bar', ax=axes[0])           \n",
    "\n",
    "sl = 9.96\n",
    "axes[0].axhline(y=sl, linestyle='--', color='orange', label='Industry_Avg' )\n",
    "axes[0].set_title(\"Departure Delay by Airline\")\n",
    "axes[0].set_xlabel('Airline')\n",
    "axes[0].set_ylabel('Delay (min)')\n",
    "\n",
    "\n",
    "# Average length of delay for Arrivals in (min)\n",
    "arr_delay = top_airlines.groupby('OP_CARRIER')['ARR_DELAY'].mean().sort_values(ascending = False)\n",
    "arr_delay.plot(kind='bar', ax=axes[1])\n",
    "\n",
    "\n",
    "sl1 = 5.04\n",
    "axes[1].axhline(y=sl1, linestyle='--', color='orange', label='Industry_Avg' )\n",
    "axes[1].set_title(\"Arrival Delay by Airline\")\n",
    "axes[1].set_xlabel('Airline')\n",
    "axes[1].set_ylabel('Delay (min)')\n",
    "\n",
    "plt.tight_layout(pad=5)\n",
    "plt.show()\n"
   ]
  },
  {
   "cell_type": "code",
   "execution_count": null,
   "id": "51a2f5b7",
   "metadata": {},
   "outputs": [],
   "source": [
    "# delay percent of total\n",
    "delay_columns = ['CARRIER_DELAY',\n",
    "       'WEATHER_DELAY', 'NAS_DELAY', 'SECURITY_DELAY', 'LATE_AIRCRAFT_DELAY']\n",
    "delay_df = cl_df[cl_df[delay_columns] > 0]\n",
    "delay_count = delay_df[delay_columns].count()\n",
    "delay_total = delay_df[delay_columns].count().sum()\n",
    "percent_delay = (delay_count / delay_total)*100\n",
    "# percent_delay\n",
    "plt.pie(percent_delay, labels=delay_columns, autopct='%1.1f%%')\n",
    "plt.title(\"Type of Delay\")\n",
    "plt.show()\n"
   ]
  },
  {
   "cell_type": "markdown",
   "id": "dfd4c0ce",
   "metadata": {},
   "source": [
    "<h4>The average delay duration in minutes for each of the following: <br><br>Carrier 19.4<br>Late Aircraft 25.6<br> National Air System 15.8<br>Weather 3.6                                              <h4>"
   ]
  },
  {
   "cell_type": "markdown",
   "id": "241fc518",
   "metadata": {},
   "source": [
    "<h3>Taxi times by airport and airline <h3>"
   ]
  },
  {
   "cell_type": "markdown",
   "id": "a0681d87",
   "metadata": {},
   "source": [
    "Industry Average Taxi-Out takes 17 minutes, while Taxi-In takes 7 minutes.<br><br>These figures represent the time between when the plane is at the terminal and in the air.<br><br> This could be an indication of prior delays in the airport operations.<br> JFK has the slowest Taxi-Out time of 27 minutes, while MIA has the slowest Taxi-In time of 8.5 minutes. Additional data is needed to determine whether these times are related to the size of the runway.     "
   ]
  },
  {
   "cell_type": "code",
   "execution_count": null,
   "id": "aefd580e",
   "metadata": {},
   "outputs": [],
   "source": [
    "# subplots combined\n",
    "fig, axes = plt.subplots(nrows=2, ncols=1, figsize=(10, 10))\n",
    "\n",
    "# Airport Avg Taxi_In times (min)\n",
    "top_airports.groupby('ORIGIN')['TAXI_IN'].mean().sort_values(ascending=False).head(20).plot(kind='bar', ax=axes[1])\n",
    "taxi_in_avg = top_airlines['TAXI_IN'].mean()\n",
    "axes[1].axhline(y=taxi_in_avg, linestyle='--', color='orange', label='Industry_Avg')\n",
    "axes[1].set_title(\"Average Taxi_In times (min)\")\n",
    "axes[1].set_ylabel('Minutes')\n",
    "axes[1].set_ylim(7, 8.75)\n",
    "\n",
    "# Airport Avg Taxi_Out times (min)\n",
    "top_airports.groupby('ORIGIN')['TAXI_OUT'].mean().sort_values(ascending=False).head(20).plot(kind='bar', ax=axes[0])\n",
    "taxi_out_avg = top_airlines['TAXI_OUT'].mean()\n",
    "axes[0].axhline(y=taxi_out_avg, linestyle='--', color='orange', label='Industry_Avg')\n",
    "axes[0].set_title(\"Average Taxi_Out times (min)\")\n",
    "axes[0].set_ylabel('Minutes')\n",
    "\n",
    "plt.tight_layout(pad=5)\n",
    "plt.show()\n"
   ]
  },
  {
   "cell_type": "markdown",
   "id": "71edaaec",
   "metadata": {},
   "source": [
    "<h3>Flight Cancellations<h3>"
   ]
  },
  {
   "cell_type": "markdown",
   "id": "a39ac682",
   "metadata": {},
   "source": [
    "<h4> The total flights cancelled in the industry 116,584 (1.6%). <br>The top three airlines with the most cancellations are OH 4.3%, MQ 3.5%, YX 3.2%. <br>January has the most cancellations of any month at 3%, compared to the lowest month October at 0.72%.  <h4>"
   ]
  },
  {
   "cell_type": "code",
   "execution_count": null,
   "id": "31315448",
   "metadata": {},
   "outputs": [],
   "source": [
    "# subplots combined\n",
    "fig, axes = plt.subplots(nrows=1, ncols=2, figsize=(10, 5))\n",
    "\n",
    "cdf = df[df['CANCELLED']==1]\n",
    "cdf.groupby('OP_CARRIER').sum()['CANCELLED'].sort_values(ascending=False).plot(kind='bar', ax=axes[0])\n",
    "axes[0].set_title(\"Annual Cancellations by Airline\")\n",
    "axes[0].set_xlabel('Airline')\n",
    "axes[0].set_ylabel('Total Cancellations')\n",
    "\n",
    "\n",
    "\n",
    "\n",
    "# Percent Canceled by airline\n",
    "canceled_flights = df[df['CANCELLED'] == 1]\n",
    "canceled_flights\n",
    "canceled_count = canceled_flights['OP_CARRIER'].value_counts()\n",
    "canceled_count\n",
    "total_flights = df['OP_CARRIER'].value_counts()\n",
    "perc_canceled = canceled_count / total_flights * 100 \n",
    "perc_canceled.sort_values(ascending= False).head(20).plot(kind='bar', ax=axes[1])\n",
    "\n",
    "second_line = 1.6\n",
    "axes[1].axhline(y=second_line, linestyle='--', color='orange', label='Industry_Avg' )\n",
    "\n",
    "axes[1].set_title(\"Percent Cancelled by Airline\")\n",
    "axes[1].set_xlabel('Airline')\n",
    "axes[1].set_ylabel('(%) Cancellations')\n",
    "plt.show()\n",
    "\n",
    "\n"
   ]
  },
  {
   "cell_type": "code",
   "execution_count": null,
   "id": "ae7df65f",
   "metadata": {},
   "outputs": [],
   "source": [
    "# Average cancelled flights by Airport (%) \n",
    "\n",
    "\n",
    "\n",
    "mean_cancelled_airports_origin = top_airports.groupby('ORIGIN').mean(numeric_only=True)['CANCELLED']*100\n",
    "mean_cancelled_airports_dest = top_airports.groupby('DEST').mean(numeric_only=True)['CANCELLED']*100\n",
    "mean_cancelled_airports = mean_cancelled_airports_origin + mean_cancelled_airports_dest\n",
    "mean_cancelled_airports.sort_values(ascending=False).head(20).plot(kind='bar')\n",
    "\n",
    "second_line = 1.6\n",
    "plt.axhline(y=second_line, linestyle='--', color='orange', label='Industry_Avg' )\n",
    "\n",
    "plt.title(\"Average Cancelled Flights per Year\")\n",
    "plt.ylabel('( % )')\n",
    "plt.xlabel('Busiest airports in 90th percentile')\n",
    "plt.show()\n"
   ]
  },
  {
   "cell_type": "code",
   "execution_count": null,
   "id": "42b5126c",
   "metadata": {},
   "outputs": [],
   "source": [
    "mean_cancelled_carriers = df.groupby('OP_CARRIER').mean()['CANCELLED'].sort_values(ascending=False)*100"
   ]
  },
  {
   "cell_type": "markdown",
   "id": "17796459",
   "metadata": {},
   "source": [
    "<h4> Wednesday has the most cancellations at 1.98% compared to Saturday with the lowest (1.01%)<h4>"
   ]
  },
  {
   "cell_type": "code",
   "execution_count": null,
   "id": "ae1fd3d8",
   "metadata": {
    "scrolled": false
   },
   "outputs": [],
   "source": [
    "# subplots\n",
    "fig, axes = plt.subplots(nrows=2, ncols=1, figsize=(10, 10))\n",
    "\n",
    "# Cancelled flights by month (%)\n",
    "cdf['FL_DATE'] = pd.to_datetime(cdf['FL_DATE'])\n",
    "cdf['Month'] = cdf['FL_DATE'].dt.month_name()\n",
    "cancelled_month_count = cdf['Month'].value_counts()\n",
    "((cancelled_month_count / month_count)*100).sort_values(ascending=False).plot(kind='bar', ax=axes[0])\n",
    "\n",
    "# month_order = ['January','February','March','April','May','June','July','August','September','October','November','December']\n",
    "# cdf['Month'] = pd.Categorical(cdf['Month'], categories=month_order, ordered=True)\n",
    "\n",
    "sl2 = 1.6\n",
    "axes[0].axhline(y=second_line, linestyle='--', color='orange', label='Industry_Avg' )\n",
    "axes[0].set_title(\"Percent Cancelled Flights per Month\")\n",
    "axes[0].set_xlabel('Month')\n",
    "axes[0].set_ylabel('( % )')\n",
    "\n",
    "\n",
    "\n",
    "# Cancelled flights by day (%)\n",
    "\n",
    "# defining Day column\n",
    "cdf['DAY'] = cdf['FL_DATE'].dt.day_name()\n",
    "cancelled_day_count = cdf['DAY'].value_counts()\n",
    "((cancelled_day_count / day_count)*100).sort_values(ascending=False).plot(kind='bar', ax=axes[1])\n",
    "\n",
    "\n",
    "axes[1].axhline(y=sl2, linestyle='--', color='orange', label='Industry_Avg' )\n",
    "axes[1].set_title(\"Percent Cancelled Flights per day\")\n",
    "axes[1].set_xlabel('Day')\n",
    "axes[1].set_ylabel('( % )')\n",
    "plt.tight_layout(pad=5.0)\n",
    "plt.show()\n"
   ]
  },
  {
   "cell_type": "markdown",
   "id": "dd27f0ab",
   "metadata": {},
   "source": [
    "<h4>Weather is the leading cause of flight cancellation for 9/12 months.                             <h4> "
   ]
  },
  {
   "cell_type": "markdown",
   "id": "41ec4426",
   "metadata": {},
   "source": [
    "<h3>Cancellations based on time of day<h3>"
   ]
  },
  {
   "cell_type": "markdown",
   "id": "d8a6c9b6",
   "metadata": {},
   "source": [
    "<h4>Scheduled flight departures were rounded to the nearest hour. \n",
    "    8.4% of cancellations occur during the 16:00 hour. Atlanta (ATL), the busiest airport in the US experiences the most cancellations at the 15:00 hour. The busiest airline, Southwest (WN) has the most cancellations at 6:00.<br><br>** 'TIME_ROUND' was calculated by rounding the departure time to the nearest hour. A significant reduction of unique values was achieved to match common times.  <h4>"
   ]
  },
  {
   "cell_type": "code",
   "execution_count": null,
   "id": "eaf3a8c3",
   "metadata": {},
   "outputs": [],
   "source": [
    "# Histogram of flights cancelled time of day\n",
    "plt.hist(cdf['CRS_DEP_TIME'])\n",
    "plt.title(\"Flights Cancelled by time of day\")\n",
    "labels_x = list(range(0, 2401, 100))\n",
    "plt.xticks(labels_x, rotation = 45)\n",
    "plt.xlabel('Hours')\n",
    "plt.show()\n",
    "\n"
   ]
  },
  {
   "cell_type": "markdown",
   "id": "145df92c",
   "metadata": {},
   "source": [
    "<h3>Correlations and Regression <h3>"
   ]
  },
  {
   "cell_type": "code",
   "execution_count": null,
   "id": "807be93f",
   "metadata": {},
   "outputs": [],
   "source": [
    "delay_clmns = ['CRS_DEP_TIME','DEP_DELAY','CRS_ARR_TIME','ARR_DELAY','TAXI_OUT','TAXI_IN']\n",
    "sub_df = non_cdf[delay_clmns]\n",
    "# sub_df\n",
    "delay_corr = sub_df.corr()\n",
    "sns.heatmap(delay_corr, annot=True)"
   ]
  },
  {
   "cell_type": "markdown",
   "id": "83c7ecb3",
   "metadata": {},
   "source": [
    "<h4>Arrival Delay is correlated with Taxi-Out and Taxi-In times; however, they are considered weak correlations with correlation values >0.22. <h4>"
   ]
  },
  {
   "cell_type": "markdown",
   "id": "31691693",
   "metadata": {},
   "source": [
    "<h3>Multivariate Regression<h3>"
   ]
  },
  {
   "cell_type": "code",
   "execution_count": null,
   "id": "f01a5039",
   "metadata": {
    "scrolled": false
   },
   "outputs": [],
   "source": [
    "reg_model"
   ]
  },
  {
   "cell_type": "markdown",
   "id": "85438972",
   "metadata": {},
   "source": [
    "<h4> 94% of the model is explained by the regression analysis. Each of the variables are highly significant with P-values equaling 0 despite having weak correlation. This signals that the dependent variable \"Depart Delay\" is not influenced by random events.<h4>"
   ]
  },
  {
   "cell_type": "markdown",
   "id": "ccd77b85",
   "metadata": {},
   "source": [
    "<h4>After observing weak correlation in the multivariate regression, a logistic regression was performed. Despite the more involved logistic regression, only 3% of the cancelled flights could be explained by the model.  <h4>"
   ]
  },
  {
   "cell_type": "markdown",
   "id": "72c382bf",
   "metadata": {},
   "source": [
    "<h2> Final Thoughts<h2>"
   ]
  },
  {
   "cell_type": "markdown",
   "id": "f7cbffe4",
   "metadata": {},
   "source": [
    "The primary error in both models was 'model imbalance'. This occurred because the target variable accounted for less than 2% of the model. Attempting to reduce the number of instances in the majority class via under sampling proved unsuccessful. Additional models that are more immune to model imbalance such as random forest, decision tree analysis could prove useful at predicting cancelled flights.<br><br> Despite minimal correlation, the dataset highlighted several main themes: <br><br>\n",
    "<li> Weather has the greatest effect on flight cancellations, especially during January and March</li> \n",
    "<li>The time of day with the most cancellations is 16:00</li> \n",
    "<li>Air traffic effects taxi times which play a significant role in flight delays </li> "
   ]
  }
 ],
 "metadata": {
  "kernelspec": {
   "display_name": "Python 3 (ipykernel)",
   "language": "python",
   "name": "python3"
  },
  "language_info": {
   "codemirror_mode": {
    "name": "ipython",
    "version": 3
   },
   "file_extension": ".py",
   "mimetype": "text/x-python",
   "name": "python",
   "nbconvert_exporter": "python",
   "pygments_lexer": "ipython3",
   "version": "3.10.9"
  }
 },
 "nbformat": 4,
 "nbformat_minor": 5
}
